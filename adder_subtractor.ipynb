{
 "cells": [
  {
   "cell_type": "code",
   "execution_count": 1,
   "metadata": {},
   "outputs": [],
   "source": [
    "class AS_0:\n",
    "    def __init__(self, z: int = 0, d: int = 0, x0: int = 0) -> None:\n",
    "        self.z = z\n",
    "        self.d = d\n",
    "        self.x0 = x0\n",
    "\n",
    "        self.b = 2\n",
    "        self.hf = lambda x: (x >= 0) * 1\n",
    "\n",
    "    def __call__(self, x1: int, op: int):\n",
    "        k = (self.z - op)**2\n",
    "        f = self.hf((self.x0 - x1) * (1 - k) + (x1 - (self.b - self.x0)) * k)\n",
    "        c = self.d * (1 - f) * (1 - k) + f * k\n",
    "        v = ((x1 - self.x0) * (1 - f) + (self.x0 - x1) * f) * (1 - k) + \\\n",
    "            ((self.x0 + x1) * (1 - f) + (x1 - (self.b - self.x0)) * f) * k\n",
    "        self.x0 = (((self.b - v) * self.d + v * (1 - self.d)) * (1 - f) + v * f) * (1 - k) + v * k\n",
    "        self.z = ((self.z - (1 - self.d) * (1 - f))**2) * (1 - k) + self.z * k\n",
    "        # for test\n",
    "        self.d = (self.d - c)*(1 - k) + (self.d + c)*k\n",
    "        return self.z, self.d, self.x0"
   ]
  },
  {
   "cell_type": "code",
   "execution_count": 2,
   "metadata": {},
   "outputs": [
    {
     "data": {
      "text/plain": [
       "(0, 1, 0)"
      ]
     },
     "execution_count": 2,
     "metadata": {},
     "output_type": "execute_result"
    }
   ],
   "source": [
    "asu = AS_0(0, 0, 1)\n",
    "\n",
    "asu(1, 1)"
   ]
  },
  {
   "cell_type": "code",
   "execution_count": 3,
   "metadata": {},
   "outputs": [],
   "source": [
    "class AS_1:\n",
    "    def __init__(self, z: int = 0, d: int = 0, x0: int = 0) -> None:\n",
    "        self.z = z\n",
    "        self.d = d\n",
    "        self.x0 = x0\n",
    "\n",
    "        self.b = 10\n",
    "        self.xor = lambda x, y: ((x and not y) or (not x and y)) * 1\n",
    "        self.hf = lambda x: (x >= 0) * 1\n",
    "\n",
    "    def __call__(self, x1: int, op: int):\n",
    "        k = self.xor(self.z, op)\n",
    "        f = self.hf((self.x0 - x1) * (not k) + (x1 - (self.b - self.x0)) * k)\n",
    "        c = (self.d and (not f) and (not k) or (f and k)) * 1\n",
    "        v = ((x1 - self.x0) * (not f) + (self.x0 - x1) * f) * (not k) + \\\n",
    "            ((self.x0 + x1) * (not f) + (x1 - (self.b - self.x0)) * f) * k\n",
    "        self.x0 = (((self.b - v) * self.d + v * (not self.d)) * (not f) + v * f) * (not k) + v * k\n",
    "        self.z = ((self.xor(self.z, (not self.d) and (not f)) and (not k)) or (self.z and k)) * 1\n",
    "        # for test\n",
    "        self.d = (self.d - c)*(1 - k) + (self.d + c)*k\n",
    "        return self.z, self.d, self.x0"
   ]
  },
  {
   "cell_type": "code",
   "execution_count": 8,
   "metadata": {},
   "outputs": [
    {
     "data": {
      "text/plain": [
       "(0, 1, 5)"
      ]
     },
     "execution_count": 8,
     "metadata": {},
     "output_type": "execute_result"
    }
   ],
   "source": [
    "asu = AS_1(0, 0, 8)\n",
    "\n",
    "asu(7, 1)"
   ]
  },
  {
   "cell_type": "code",
   "execution_count": null,
   "metadata": {},
   "outputs": [],
   "source": []
  }
 ],
 "metadata": {
  "kernelspec": {
   "display_name": "Python 3",
   "language": "python",
   "name": "python3"
  },
  "language_info": {
   "codemirror_mode": {
    "name": "ipython",
    "version": 3
   },
   "file_extension": ".py",
   "mimetype": "text/x-python",
   "name": "python",
   "nbconvert_exporter": "python",
   "pygments_lexer": "ipython3",
   "version": "3.10.5"
  },
  "orig_nbformat": 4
 },
 "nbformat": 4,
 "nbformat_minor": 2
}
